{
 "cells": [
  {
   "cell_type": "code",
   "execution_count": 2,
   "metadata": {
    "collapsed": true
   },
   "outputs": [],
   "source": [
    "f=open(\"C:\\\\users\\\\vivek\\\\desktop\\\\hello.txt\",'w')"
   ]
  },
  {
   "cell_type": "code",
   "execution_count": 3,
   "metadata": {},
   "outputs": [
    {
     "name": "stdout",
     "output_type": "stream",
     "text": [
      "['_CHUNK_SIZE', '__class__', '__del__', '__delattr__', '__dict__', '__dir__', '__doc__', '__enter__', '__eq__', '__exit__', '__format__', '__ge__', '__getattribute__', '__getstate__', '__gt__', '__hash__', '__init__', '__init_subclass__', '__iter__', '__le__', '__lt__', '__ne__', '__new__', '__next__', '__reduce__', '__reduce_ex__', '__repr__', '__setattr__', '__sizeof__', '__str__', '__subclasshook__', '_checkClosed', '_checkReadable', '_checkSeekable', '_checkWritable', '_finalizing', 'buffer', 'close', 'closed', 'detach', 'encoding', 'errors', 'fileno', 'flush', 'isatty', 'line_buffering', 'mode', 'name', 'newlines', 'read', 'readable', 'readline', 'readlines', 'seek', 'seekable', 'tell', 'truncate', 'writable', 'write', 'writelines']\n"
     ]
    }
   ],
   "source": [
    "print(dir(f))"
   ]
  },
  {
   "cell_type": "code",
   "execution_count": 13,
   "metadata": {},
   "outputs": [
    {
     "name": "stdout",
     "output_type": "stream",
     "text": [
      "file name C:\\users\\vivek\\desktop\\hello.txt\n",
      "file mode w\n",
      "False\n",
      "True\n",
      "True\n",
      "33\n"
     ]
    }
   ],
   "source": [
    "print(\"file name\",f.name)\n",
    "print(\"file mode\",f.mode)\n",
    "\n",
    "print(f.readable())\n",
    "print(f.writable())\n",
    "print(f.seekable())\n",
    "#print(f.read())\n",
    "#print(f.readline())\n",
    "print(f.write(\"hello world,this is file handling\"))\n",
    "f.close()\n",
    "\n",
    "\n"
   ]
  },
  {
   "cell_type": "code",
   "execution_count": 25,
   "metadata": {},
   "outputs": [
    {
     "name": "stdout",
     "output_type": "stream",
     "text": [
      "hello world,this is file handling\n",
      "hello world,this is file handling\n"
     ]
    }
   ],
   "source": [
    "f=open(\"C:\\\\users\\\\vivek\\\\desktop\\\\hello.txt\",'r')\n",
    "print(f.read())\n",
    "#print(f.readline())\n"
   ]
  },
  {
   "cell_type": "code",
   "execution_count": 27,
   "metadata": {},
   "outputs": [
    {
     "name": "stdout",
     "output_type": "stream",
     "text": [
      "hello world,this is file handling\n",
      "hello world,this is file handling\n",
      "d,this is file handling\n",
      "hello world,this is file handling\n"
     ]
    }
   ],
   "source": [
    "f.seek(0)\n",
    "d=f.read()\n",
    "print(d)\n",
    "\n",
    "f.seek(10)\n",
    "d=f.read()\n",
    "print(d)\n",
    "\n",
    "#f.tell -> tells the cuttent position of the pointer"
   ]
  },
  {
   "cell_type": "code",
   "execution_count": null,
   "metadata": {
    "collapsed": true
   },
   "outputs": [],
   "source": [
    "#f.seek(\"pos\",\"from what\")\n",
    "#from what=0 -> from begining\n",
    "#from what=1 -> current position\n",
    "#from what=2 -> from end"
   ]
  }
 ],
 "metadata": {
  "kernelspec": {
   "display_name": "Python 3",
   "language": "python",
   "name": "python3"
  },
  "language_info": {
   "codemirror_mode": {
    "name": "ipython",
    "version": 3
   },
   "file_extension": ".py",
   "mimetype": "text/x-python",
   "name": "python",
   "nbconvert_exporter": "python",
   "pygments_lexer": "ipython3",
   "version": "3.6.3"
  }
 },
 "nbformat": 4,
 "nbformat_minor": 2
}
