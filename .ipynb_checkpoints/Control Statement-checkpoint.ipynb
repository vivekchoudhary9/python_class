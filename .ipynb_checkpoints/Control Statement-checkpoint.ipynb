{
 "cells": [
  {
   "cell_type": "code",
   "execution_count": 1,
   "metadata": {
    "collapsed": true
   },
   "outputs": [],
   "source": [
    "#syntax\n",
    "#if condition :(:is defined as indentation used to define block of code)\n",
    "    #statement\n",
    "    #statement\n",
    "#else :\n",
    "    #statement\n",
    "    #statement\n",
    "    \n",
    "\n",
    "    "
   ]
  },
  {
   "cell_type": "code",
   "execution_count": 2,
   "metadata": {},
   "outputs": [
    {
     "name": "stdout",
     "output_type": "stream",
     "text": [
      "enter the number20\n",
      "even\n"
     ]
    }
   ],
   "source": [
    "#Even odd\n",
    "x=int(input(\"enter the number\"))\n",
    "if x%2==0 :\n",
    "    print(\"even\")\n",
    "else:\n",
    "    print(\"odd\")"
   ]
  },
  {
   "cell_type": "code",
   "execution_count": 8,
   "metadata": {},
   "outputs": [
    {
     "name": "stdout",
     "output_type": "stream",
     "text": [
      "enter the number12\n",
      "enter the number10\n",
      "enter the number13\n",
      "13 is greatest\n"
     ]
    }
   ],
   "source": [
    "#greatest among three numbers\n",
    "x=int(input(\"enter the number\"))\n",
    "y=int(input(\"enter the number\"))\n",
    "z=int(input(\"enter the number\"))\n",
    "if x>=y and y>=z:\n",
    "    print(\"{} is greatest\".format(x) )\n",
    "    \n",
    "elif y>=x and x>=z:\n",
    "    print(\"{} is greatest\".format(y) )\n",
    "    \n",
    "else:\n",
    "    print(\"{} is greatest\".format(z) )"
   ]
  },
  {
   "cell_type": "code",
   "execution_count": 14,
   "metadata": {},
   "outputs": [
    {
     "name": "stdout",
     "output_type": "stream",
     "text": [
      "enter the acceptor's blood groupa+\n",
      "enter the donar's blood groupb+\n",
      "Acceptor's blood group :  A+\n",
      "Donar's blood group :  B+\n",
      "Accepter cannot accept the donar's blood\n"
     ]
    }
   ],
   "source": [
    "#take blood group as input and check if he can donate blood to accepter\n",
    "\n",
    "\n",
    "\n",
    "ac=input(\"enter the acceptor's blood group\")\n",
    "a=ac.upper()\n",
    "do=input(\"enter the donar's blood group\")\n",
    "d=do.upper()\n",
    "print(\"Acceptor's blood group : \",a)\n",
    "print(\"Donar's blood group : \",d)\n",
    "if a==d:\n",
    "    print(\"Accepter can accept the donar's blood\")\n",
    "else:\n",
    "    if a=='O+' :\n",
    "        if d=='O-':\n",
    "            print(\"Accepter can accept the donar's blood\")\n",
    "        else:\n",
    "            print(\"Accepter cannot accept the donar's blood\")\n",
    "    \n",
    "    elif a=='O-':\n",
    "        if d=='O-':\n",
    "            print(\"Accepter can accept the donar's blood\")\n",
    "        else:\n",
    "            +print(\"Accepter cannot accept the donar's blood\")\n",
    "            \n",
    "    elif a=='A+' :\n",
    "        if d=='A-' or d=='AB+' or d=='AB-':\n",
    "            print(\"Accepter can accept the donar's blood\")\n",
    "        else:\n",
    "            print(\"Accepter cannot accept the donar's blood\")\n",
    "            \n",
    "    elif a=='A-':\n",
    "        if d=='O-':\n",
    "            print(\"Accepter can accept the donar's blood\")\n",
    "        else:\n",
    "            print(\"Accepter cannot accept the donar's blood\")\n",
    "            \n",
    "    elif a=='B+' :\n",
    "        if d=='B-' or d=='O+' or d=='O-':\n",
    "            print(\"Accepter can accept the donar's blood\")\n",
    "        else:\n",
    "            print(\"Accepter cannot accept the donar's blood\")\n",
    "            \n",
    "    elif a=='B-':\n",
    "        if d=='O-':\n",
    "            print(\"Accepter can accept the donar's blood\")\n",
    "        else:\n",
    "            print(\"Accepter cannot accept the donar's blood\")\n",
    "            \n",
    "    elif a=='AB+':\n",
    "        print(\"Accepter can accept the donar's blood\")\n",
    "        \n",
    "    elif a=='AB-':\n",
    "        if d=='A-' or d=='B-' or d=='O-':\n",
    "            print(\"Accepter can accept the donar's blood\")\n",
    "        else:\n",
    "            print(\"Accepter cannot accept the donar's blood\")"
   ]
  },
  {
   "cell_type": "markdown",
   "metadata": {
    "collapsed": true
   },
   "source": [
    "# Loops in python"
   ]
  },
  {
   "cell_type": "markdown",
   "metadata": {},
   "source": [
    "1.While loop\n",
    "2.For loop"
   ]
  },
  {
   "cell_type": "code",
   "execution_count": 2,
   "metadata": {},
   "outputs": [
    {
     "name": "stdout",
     "output_type": "stream",
     "text": [
      "hello\n",
      "hello\n",
      "hello\n",
      "hello\n",
      "hello\n",
      "hello\n",
      "hello\n",
      "hello\n",
      "hello\n",
      "hello\n",
      "python \n"
     ]
    }
   ],
   "source": [
    "#syntax of while:\n",
    "#while t/f:\n",
    "    #st1\n",
    "    #st2\n",
    "    \n",
    "c=1\n",
    "while c<=10:\n",
    "    print(\"hello\")\n",
    "    c=c+1\n",
    "print(\"python \")"
   ]
  },
  {
   "cell_type": "code",
   "execution_count": 7,
   "metadata": {},
   "outputs": [
    {
     "name": "stdout",
     "output_type": "stream",
     "text": [
      "1, 2, 3, 4, 5, 6, 7, 8, 9, 10, 11, 12, 13, 14, 15, 16, 17, 18, 19, 20, 21, 22, 23, 24, 25, 26, 27, 28, 29, 30, 31, 32, 33, 34, 35, 36, 37, 38, 39, 40, 41, 42, 43, 44, 45, 46, 47, 48, 49, 50, 51, 52, 53, 54, 55, 56, 57, 58, 59, 60, 61, 62, 63, 64, 65, 66, 67, 68, 69, 70, 71, 72, 73, 74, 75, 76, 77, 78, 79, 80, 81, 82, 83, 84, 85, 86, 87, 88, 89, 90, 91, 92, 93, 94, 95, 96, 97, 98, 99, 100, "
     ]
    }
   ],
   "source": [
    "c=1\n",
    "while c<=100:\n",
    "    print(c,end=', ')\n",
    "    c=c+1\n",
    "    \n",
    "#end= how to end the output"
   ]
  },
  {
   "cell_type": "code",
   "execution_count": 20,
   "metadata": {},
   "outputs": [
    {
     "name": "stdout",
     "output_type": "stream",
     "text": [
      "100, 99, 98, 97, 96, 95, 94, 93, 92, 91, 90, 89, 88, 87, 86, 85, 84, 83, 82, 81, 80, 79, 78, 77, 76, 75, 74, 73, 72, 71, 70, 69, 68, 67, 66, 65, 64, 63, 62, 61, 60, 59, 58, 57, 56, 55, 54, 53, 52, 51, 50, 49, 48, 47, 46, 45, 44, 43, 42, 41, 40, 39, 38, 37, 36, 35, 34, 33, 32, 31, 30, 29, 28, 27, 26, 25, 24, 23, 22, 21, 20, 19, 18, 17, 16, 15, 14, 13, 12, 11, 10, 9, 8, 7, 6, 5, 4, 3, 2, 1, "
     ]
    }
   ],
   "source": [
    "c=100\n",
    "while c>=1:\n",
    "    print(c,end=', ')\n",
    "    c=c-1\n",
    "    "
   ]
  },
  {
   "cell_type": "code",
   "execution_count": 5,
   "metadata": {},
   "outputs": [
    {
     "name": "stdout",
     "output_type": "stream",
     "text": [
      "enter the number5\n",
      "5 * 1 = 5\n",
      "5 * 2 = 10\n",
      "5 * 3 = 15\n",
      "5 * 4 = 20\n",
      "5 * 5 = 25\n",
      "5 * 6 = 30\n",
      "5 * 7 = 35\n",
      "5 * 8 = 40\n",
      "5 * 9 = 45\n",
      "5 * 10 = 50\n"
     ]
    }
   ],
   "source": [
    "a=1\n",
    "x=int(input(\"enter the number\"))\n",
    "while a<=10:\n",
    "    #print(\"{} * {} = {}\".format(x,a,x*a))\n",
    "    print(x,'*',a,'=',x*a)\n",
    "    a=a+1"
   ]
  },
  {
   "cell_type": "code",
   "execution_count": 4,
   "metadata": {},
   "outputs": [
    {
     "name": "stdout",
     "output_type": "stream",
     "text": [
      "sum is 5050\n"
     ]
    }
   ],
   "source": [
    "s=0\n",
    "c=1\n",
    "while c<=100:\n",
    "      s=s+c\n",
    "      c=c+1\n",
    "print(\"sum is\",s)\n",
    "        "
   ]
  },
  {
   "cell_type": "code",
   "execution_count": null,
   "metadata": {
    "collapsed": true
   },
   "outputs": [],
   "source": []
  }
 ],
 "metadata": {
  "kernelspec": {
   "display_name": "Python 3",
   "language": "python",
   "name": "python3"
  },
  "language_info": {
   "codemirror_mode": {
    "name": "ipython",
    "version": 3
   },
   "file_extension": ".py",
   "mimetype": "text/x-python",
   "name": "python",
   "nbconvert_exporter": "python",
   "pygments_lexer": "ipython3",
   "version": "3.6.3"
  }
 },
 "nbformat": 4,
 "nbformat_minor": 2
}
