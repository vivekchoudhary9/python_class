{
 "cells": [
  {
   "cell_type": "code",
   "execution_count": 9,
   "metadata": {},
   "outputs": [
    {
     "name": "stdout",
     "output_type": "stream",
     "text": [
      "enter any number8\n",
      "8 is not a prime number\n"
     ]
    }
   ],
   "source": [
    "#prime numbers with user input\n",
    "\n",
    "x=int(input(\"enter any number\"))\n",
    "a=1\n",
    "c=0\n",
    "while a<=x:\n",
    "    if x%a==0:\n",
    "        c=c+1\n",
    "    a=a+1\n",
    "if c==2:\n",
    "    print(\"{} is a prime number\".format(x))\n",
    "else:\n",
    "    print(\"{} is not a prime number\".format(x))"
   ]
  },
  {
   "cell_type": "code",
   "execution_count": 4,
   "metadata": {},
   "outputs": [
    {
     "name": "stdout",
     "output_type": "stream",
     "text": [
      "enter the starting number1\n",
      "enter the ending number100\n",
      "\t 2\n"
     ]
    }
   ],
   "source": [
    "#prime number in range\n",
    "\n",
    "\n",
    "s=int(input(\"enter the starting number\"))\n",
    "e=int(input(\"enter the ending number\"))\n",
    "a=1\n",
    "c=0\n",
    "while s<=e:\n",
    "    while a<=s:\n",
    "        if a%s==0:\n",
    "            c=c+1\n",
    "        a=a+1\n",
    "    if c==2:\n",
    "        print(\"\\t\",s)\n",
    "    s=s+1\n",
    "    \n",
    "    \n",
    "\n"
   ]
  },
  {
   "cell_type": "code",
   "execution_count": 21,
   "metadata": {},
   "outputs": [
    {
     "name": "stdout",
     "output_type": "stream",
     "text": [
      "enter any number123\n",
      "123 is a not palindrome number\n"
     ]
    }
   ],
   "source": [
    "#palindrome number\n",
    "\n",
    "n=int(input(\"enter any number\"))\n",
    "x=n\n",
    "s=0\n",
    "while n>0:\n",
    "    r=n%10\n",
    "    s=(s*10)+r\n",
    "    n=n//10\n",
    "    \n",
    "if s==x:\n",
    "    print(\"{} is a palindrome number\".format(x))\n",
    "else:\n",
    "    print(\"{} is a not palindrome number\".format(x))\n",
    "    "
   ]
  },
  {
   "cell_type": "code",
   "execution_count": 3,
   "metadata": {},
   "outputs": [
    {
     "name": "stdout",
     "output_type": "stream",
     "text": [
      "enter any number123\n",
      "123 is a not armstrong number\n"
     ]
    }
   ],
   "source": [
    "#armstrong number using user input\n",
    "\n",
    "n=int(input(\"enter any number\"))\n",
    "x=n\n",
    "y=n\n",
    "c=0\n",
    "s=0\n",
    "while x>0:\n",
    "    c=c+1\n",
    "    x=x//10\n",
    "while y>0:\n",
    "    r=y%10\n",
    "    s=s+(r**c)\n",
    "    y=y//10\n",
    "if s==n:\n",
    "    print(\"{} is a armstrong number\".format(n))\n",
    "else:\n",
    "    print(\"{} is a not armstrong number\".format(n))\n",
    "    "
   ]
  },
  {
   "cell_type": "code",
   "execution_count": null,
   "metadata": {
    "collapsed": true
   },
   "outputs": [],
   "source": []
  }
 ],
 "metadata": {
  "kernelspec": {
   "display_name": "Python 3",
   "language": "python",
   "name": "python3"
  }
 },
 "nbformat": 4,
 "nbformat_minor": 2
}
