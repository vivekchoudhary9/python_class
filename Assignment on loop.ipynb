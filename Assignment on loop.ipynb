{
 "cells": [
  {
   "cell_type": "code",
   "execution_count": 3,
   "metadata": {},
   "outputs": [
    {
     "name": "stdout",
     "output_type": "stream",
     "text": [
      "enter any number1\n",
      "1 is not a prime number\n"
     ]
    }
   ],
   "source": [
    "#prime numbers with user input\n",
    "\n",
    "x=int(input(\"enter any number\"))\n",
    "a=1\n",
    "c=0\n",
    "while a<=x:\n",
    "    if x%a==0:\n",
    "        c=c+1\n",
    "    a=a+1\n",
    "if c==2:\n",
    "    print(\"{} is a prime number\".format(x))\n",
    "else:\n",
    "    print(\"{} is not a prime number\".format(x))"
   ]
  },
  {
   "cell_type": "code",
   "execution_count": 5,
   "metadata": {},
   "outputs": [
    {
     "name": "stdout",
     "output_type": "stream",
     "text": [
      "enter the starting number2\n",
      "enter the ending number9\n",
      "\t 2\n"
     ]
    }
   ],
   "source": [
    "#prime number in range\n",
    "\n",
    "\n",
    "s=int(input(\"enter the starting number\"))\n",
    "e=int(input(\"enter the ending number\"))\n",
    "a=1\n",
    "c=0\n",
    "while s<=e:\n",
    "    while a<=s:\n",
    "        if a%s==0:\n",
    "            c=c+1\n",
    "        a=a+1\n",
    "    if c==2:\n",
    "        print(\"\\t\",s)\n",
    "    s=s+1\n",
    "    \n",
    "    \n",
    "\n"
   ]
  },
  {
   "cell_type": "code",
   "execution_count": 21,
   "metadata": {},
   "outputs": [
    {
     "name": "stdout",
     "output_type": "stream",
     "text": [
      "enter any number123\n",
      "123 is a not palindrome number\n"
     ]
    }
   ],
   "source": [
    "#palindrome number\n",
    "\n",
    "n=int(input(\"enter any number\"))\n",
    "x=n\n",
    "s=0\n",
    "while n>0:\n",
    "    r=n%10\n",
    "    s=(s*10)+r\n",
    "    n=n//10\n",
    "    \n",
    "if s==x:\n",
    "    print(\"{} is a palindrome number\".format(x))\n",
    "else:\n",
    "    print(\"{} is a not palindrome number\".format(x))\n",
    "    "
   ]
  },
  {
   "cell_type": "code",
   "execution_count": 3,
   "metadata": {},
   "outputs": [
    {
     "name": "stdout",
     "output_type": "stream",
     "text": [
      "enter any number123\n",
      "123 is a not armstrong number\n"
     ]
    }
   ],
   "source": [
    "#armstrong number using user input\n",
    "\n",
    "n=int(input(\"enter any number\"))\n",
    "x=n\n",
    "y=n\n",
    "c=0\n",
    "s=0\n",
    "while x>0:\n",
    "    c=c+1\n",
    "    x=x//10\n",
    "while y>0:\n",
    "    r=y%10\n",
    "    s=s+(r**c)\n",
    "    y=y//10\n",
    "if s==n:\n",
    "    print(\"{} is a armstrong number\".format(n))\n",
    "else:\n",
    "    print(\"{} is a not armstrong number\".format(n))\n",
    "    "
   ]
  },
  {
   "cell_type": "code",
   "execution_count": null,
   "metadata": {},
   "outputs": [
    {
     "name": "stdout",
     "output_type": "stream",
     "text": [
      "1\n",
      "do you want to continue(y/n)y\n",
      "2\n",
      "do you want to continue(y/n)Y\n",
      "2\n",
      "do you want to continue(y/n)   y\n",
      "4\n"
     ]
    }
   ],
   "source": [
    "#dice roll\n",
    "\n",
    "from random import randrange\n",
    "while True:\n",
    "    x=randrange(1,6)\n",
    "    print(x)\n",
    "    ch=input(\"do you want to continue(y/n)\").strip().lower()\n",
    "    if ch=='y' or ch=='yes':\n",
    "        continue\n",
    "    else:\n",
    "        break"
   ]
  },
  {
   "cell_type": "code",
   "execution_count": 3,
   "metadata": {},
   "outputs": [
    {
     "name": "stdout",
     "output_type": "stream",
     "text": [
      "1\n",
      "2\n",
      "3\n",
      "4\n",
      "5\n",
      "6\n",
      "7\n",
      "8\n",
      "9\n",
      "10\n"
     ]
    }
   ],
   "source": [
    "l=[1,2,3,4,5,6,7,8,9,10]\n",
    "for var in l:\n",
    "    print(var)\n",
    "    \n",
    "    "
   ]
  },
  {
   "cell_type": "code",
   "execution_count": 5,
   "metadata": {},
   "outputs": [
    {
     "name": "stdout",
     "output_type": "stream",
     "text": [
      "enter any number5\n",
      "5 * 1 = 5\n",
      "5 * 2 = 10\n",
      "5 * 3 = 15\n",
      "5 * 4 = 20\n",
      "5 * 5 = 25\n",
      "5 * 6 = 30\n",
      "5 * 7 = 35\n",
      "5 * 8 = 40\n",
      "5 * 9 = 45\n",
      "5 * 10 = 50\n"
     ]
    }
   ],
   "source": [
    "x=int(input(\"enter any number\"))\n",
    "l=[1,2,3,4,5,6,7,8,9,10]\n",
    "for i in l:\n",
    "    print(x,'*',i,'=',x*i)"
   ]
  },
  {
   "cell_type": "code",
   "execution_count": 9,
   "metadata": {},
   "outputs": [
    {
     "name": "stdout",
     "output_type": "stream",
     "text": [
      "enter starting number1\n",
      "enter ending number100\n",
      "enter any number5\n",
      "5\n",
      "10\n",
      "15\n",
      "20\n",
      "25\n",
      "30\n",
      "35\n",
      "40\n",
      "45\n",
      "50\n",
      "55\n",
      "60\n",
      "65\n",
      "70\n",
      "75\n",
      "80\n",
      "85\n",
      "90\n",
      "95\n"
     ]
    }
   ],
   "source": [
    "s=int(input(\"enter starting number\"))\n",
    "e=int(input(\"enter ending number\"))\n",
    "n=int(input(\"enter any number\"))\n",
    "for i in range(s,e+1):\n",
    "    if i%n==0:\n",
    "        print(i)\n",
    "    i=i+1\n"
   ]
  },
  {
   "cell_type": "code",
   "execution_count": 10,
   "metadata": {},
   "outputs": [
    {
     "name": "stdout",
     "output_type": "stream",
     "text": [
      "enter starting number1\n",
      "enter ending number100\n",
      "enter any number5\n",
      "1\n",
      "2\n",
      "3\n",
      "4\n",
      "6\n",
      "7\n",
      "8\n",
      "9\n",
      "11\n",
      "12\n",
      "13\n",
      "14\n",
      "16\n",
      "17\n",
      "18\n",
      "19\n",
      "21\n",
      "22\n",
      "23\n",
      "24\n",
      "26\n",
      "27\n",
      "28\n",
      "29\n",
      "31\n",
      "32\n",
      "33\n",
      "34\n",
      "36\n",
      "37\n",
      "38\n",
      "39\n",
      "41\n",
      "42\n",
      "43\n",
      "44\n",
      "46\n",
      "47\n",
      "48\n",
      "49\n",
      "51\n",
      "52\n",
      "53\n",
      "54\n",
      "56\n",
      "57\n",
      "58\n",
      "59\n",
      "61\n",
      "62\n",
      "63\n",
      "64\n",
      "66\n",
      "67\n",
      "68\n",
      "69\n",
      "71\n",
      "72\n",
      "73\n",
      "74\n",
      "76\n",
      "77\n",
      "78\n",
      "79\n",
      "81\n",
      "82\n",
      "83\n",
      "84\n",
      "86\n",
      "87\n",
      "88\n",
      "89\n",
      "91\n",
      "92\n",
      "93\n",
      "94\n",
      "96\n",
      "97\n",
      "98\n",
      "99\n"
     ]
    }
   ],
   "source": [
    "s=int(input(\"enter starting number\"))\n",
    "e=int(input(\"enter ending number\"))\n",
    "n=int(input(\"enter any number\"))\n",
    "for i in range(s,e):\n",
    "    if i%n!=0:\n",
    "        print(i)\n",
    "    i=i+1\n"
   ]
  },
  {
   "cell_type": "code",
   "execution_count": 12,
   "metadata": {},
   "outputs": [
    {
     "name": "stdout",
     "output_type": "stream",
     "text": [
      "-100 -99 -98 -97 -96 -95 -94 -93 -92 -91 -90 -89 -88 -87 -86 -85 -84 -83 -82 -81 -80 -79 -78 -77 -76 -75 -74 -73 -72 -71 -70 -69 -68 -67 -66 -65 -64 -63 -62 -61 -60 -59 -58 -57 -56 -55 -54 -53 -52 -51 -50 -49 -48 -47 -46 -45 -44 -43 -42 -41 -40 -39 -38 -37 -36 -35 -34 -33 -32 -31 -30 -29 -28 -27 -26 -25 -24 -23 -22 -21 -20 -19 -18 -17 -16 -15 -14 -13 -12 -11 -10 -9 -8 -7 -6 -5 -4 -3 -2 -1 "
     ]
    }
   ],
   "source": [
    "for i in range(-100,0,1):\n",
    "    print(i,end=\" \")"
   ]
  },
  {
   "cell_type": "code",
   "execution_count": 14,
   "metadata": {},
   "outputs": [
    {
     "name": "stdout",
     "output_type": "stream",
     "text": [
      "-5 -10 -15 -20 -25 -30 -35 -40 -45 -50 -55 -60 -65 -70 -75 -80 -85 -90 -95 -100 "
     ]
    }
   ],
   "source": [
    "for i in range(-1,-101,-1):\n",
    "    if i%5==0:\n",
    "        print(i,end=' ')"
   ]
  },
  {
   "cell_type": "code",
   "execution_count": null,
   "metadata": {
    "collapsed": true
   },
   "outputs": [],
   "source": [
    "\n",
    "s=int(input(\"enter the starting number\"))\n",
    "e=int(input(\"enter the ending number\"))\n",
    "a=1\n",
    "c=0\n",
    "for s in range(s,e+1):\n",
    "    for a in a<=s:\n",
    "        if s%a==0:\n",
    "            c=c+1\n",
    "        a=a+1\n",
    "    if c==2:\n",
    "        print(\"\\t\",s)\n",
    "    s=s+1\n",
    "    "
   ]
  },
  {
   "cell_type": "code",
   "execution_count": 2,
   "metadata": {},
   "outputs": [
    {
     "name": "stdout",
     "output_type": "stream",
     "text": [
      "enter how many numbers you want3\n",
      "enter number1\n",
      "enter number2\n",
      "enter number3\n",
      "[1, 2, 3]\n"
     ]
    }
   ],
   "source": [
    "c=1\n",
    "a=int(input(\"enter how many numbers you want\"))\n",
    "l=[]\n",
    "while c<=a:\n",
    "    x=int(input(\"enter number\"))\n",
    "    l.append(x)\n",
    "    c=c+1\n",
    "print(l)"
   ]
  },
  {
   "cell_type": "code",
   "execution_count": null,
   "metadata": {
    "collapsed": true
   },
   "outputs": [],
   "source": [
    "#armstrong number for loop\n",
    "\n",
    "n=int(input(\"enter any number\"))\n",
    "x=n\n",
    "y=n\n",
    "c=0\n",
    "s=0\n",
    "while x>0:\n",
    "    c=c+1\n",
    "    x=x//10\n",
    "while y>0:\n",
    "    r=y%10\n",
    "    s=s+(r**c)\n",
    "    y=y//10\n",
    "if s==n:\n",
    "    print(\"{} is a armstrong number\".format(n))\n",
    "else:\n",
    "    print(\"{} is a not armstrong number\".format(n))\n",
    "    "
   ]
  }
 ],
 "metadata": {
  "kernelspec": {
   "display_name": "Python 3",
   "language": "python",
   "name": "python3"
  },
  "language_info": {
   "codemirror_mode": {
    "name": "ipython",
    "version": 3
   },
   "file_extension": ".py",
   "mimetype": "text/x-python",
   "name": "python",
   "nbconvert_exporter": "python",
   "pygments_lexer": "ipython3",
   "version": "3.6.3"
  }
 },
 "nbformat": 4,
 "nbformat_minor": 2
}
