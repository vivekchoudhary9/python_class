{
 "cells": [
  {
   "cell_type": "code",
   "execution_count": 10,
   "metadata": {},
   "outputs": [
    {
     "name": "stdout",
     "output_type": "stream",
     "text": [
      "*\n",
      "**\n",
      "***\n",
      "****\n"
     ]
    }
   ],
   "source": [
    "for i in range(1,5):\n",
    "    print(i*'*')"
   ]
  },
  {
   "cell_type": "code",
   "execution_count": 9,
   "metadata": {},
   "outputs": [
    {
     "name": "stdout",
     "output_type": "stream",
     "text": [
      "    *\n",
      "   **\n",
      "  ***\n",
      " ****\n",
      "*****\n"
     ]
    }
   ],
   "source": [
    "k=4\n",
    "j=1\n",
    "for i in range(1,6):\n",
    "    print(k*' '+j*'*')\n",
    "    k=k-1\n",
    "    j=j+1"
   ]
  },
  {
   "cell_type": "code",
   "execution_count": 1,
   "metadata": {},
   "outputs": [
    {
     "name": "stdout",
     "output_type": "stream",
     "text": [
      "    *    \n",
      "   ***   \n",
      "  *****  \n",
      " ******* \n",
      "*********\n"
     ]
    }
   ],
   "source": [
    "k=4\n",
    "j=1\n",
    "for i in range(1,6):\n",
    "    print(k*' '+j*'*'+k*' ')\n",
    "    k=k-1\n",
    "    j=j+2"
   ]
  },
  {
   "cell_type": "code",
   "execution_count": 5,
   "metadata": {},
   "outputs": [
    {
     "name": "stdout",
     "output_type": "stream",
     "text": [
      "    *    \n",
      "   ***   \n",
      "  *****  \n",
      " ******* \n",
      "*********\n",
      " ******* \n",
      "  *****  \n",
      "   ***   \n",
      "    *    \n",
      "          \n"
     ]
    }
   ],
   "source": [
    "k=4\n",
    "j=1\n",
    "for i in range(1,6):\n",
    "    print(k*' '+j*'*'+k*' ')\n",
    "    k=k-1\n",
    "    j=j+2\n",
    "\n",
    "a=7\n",
    "j=1\n",
    "for i in range(1,6):\n",
    "    print(j*' '+a*'*'+j*' ')\n",
    "    a=a-2\n",
    "    j=j+1\n",
    "    "
   ]
  },
  {
   "cell_type": "code",
   "execution_count": 8,
   "metadata": {},
   "outputs": [
    {
     "name": "stdout",
     "output_type": "stream",
     "text": [
      "*\n",
      "*\n",
      "*\n",
      "*\n",
      "**********\n",
      "         *\n",
      "         *\n",
      "         *\n",
      "         *\n"
     ]
    }
   ],
   "source": [
    "a=1\n",
    "for i in range(1,10):\n",
    "    if i<5:\n",
    "        print('*')\n",
    "    elif i%5==0:\n",
    "        print(10*'*')\n",
    "    elif i>5:\n",
    "        print(9*' '+'*')\n",
    "    else:\n",
    "        print('*')\n",
    "\n",
    "\n",
    "for j in range(1,10):\n",
    "    "
   ]
  },
  {
   "cell_type": "code",
   "execution_count": null,
   "metadata": {},
   "outputs": [],
   "source": [
    "\n"
   ]
  },
  {
   "cell_type": "code",
   "execution_count": null,
   "metadata": {
    "collapsed": true
   },
   "outputs": [],
   "source": []
  }
 ],
 "metadata": {
  "kernelspec": {
   "display_name": "Python 3",
   "language": "python",
   "name": "python3"
  },
  "language_info": {
   "codemirror_mode": {
    "name": "ipython",
    "version": 3
   },
   "file_extension": ".py",
   "mimetype": "text/x-python",
   "name": "python",
   "nbconvert_exporter": "python",
   "pygments_lexer": "ipython3",
   "version": "3.6.3"
  }
 },
 "nbformat": 4,
 "nbformat_minor": 2
}
