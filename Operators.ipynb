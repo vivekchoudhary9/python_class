{
 "cells": [
  {
   "cell_type": "markdown",
   "metadata": {},
   "source": [
    "# type casting\n"
   ]
  },
  {
   "cell_type": "code",
   "execution_count": 8,
   "metadata": {},
   "outputs": [
    {
     "name": "stdout",
     "output_type": "stream",
     "text": [
      "enter the 1st key1\n",
      "enter the first valueh\n",
      "enter the 2nd key2\n",
      "enter the second valuew\n",
      "{'1': 'h', '2': 'w'}\n"
     ]
    }
   ],
   "source": [
    "key1=input(\"enter the 1st key\")\n",
    "value1=input(\"enter the first value\")\n",
    "key2=input(\"enter the 2nd key\")\n",
    "value2=input(\"enter the second value\")\n",
    "l=[]\n",
    "l.append(key1)\n",
    "l.append(value1)\n",
    "\n",
    "lt=[]\n",
    "lt.append(key2)\n",
    "lt.append(value2)\n",
    "le=[]\n",
    "le.append(l)\n",
    "le.append(lt)\n",
    "d=dict(le)\n",
    "print(d)"
   ]
  },
  {
   "cell_type": "markdown",
   "metadata": {
    "collapsed": true
   },
   "source": [
    "# 31 may\n"
   ]
  },
  {
   "cell_type": "markdown",
   "metadata": {
    "collapsed": true
   },
   "source": [
    "# Operators"
   ]
  },
  {
   "cell_type": "markdown",
   "metadata": {},
   "source": [
    "1.arithetic\n",
    "2.comparision\n",
    "3.logical\n",
    "4.assignment\n",
    "5.binary\n",
    "6.identity\n",
    "7.membership\n"
   ]
  },
  {
   "cell_type": "markdown",
   "metadata": {},
   "source": [
    "# Arithmetic"
   ]
  },
  {
   "cell_type": "code",
   "execution_count": 6,
   "metadata": {},
   "outputs": [
    {
     "name": "stdout",
     "output_type": "stream",
     "text": [
      "enter x1\n",
      "enter y2\n",
      "3\n",
      "abcxyz\n",
      "[1, 2, 3, 4, 5, 6]\n",
      "(1, 2, 3, 4, 5, 6)\n"
     ]
    }
   ],
   "source": [
    "#addition\n",
    "x=int(input(\"enter x\"))\n",
    "y=int(input(\"enter y\"))\n",
    "k=x+y\n",
    "print(k)\n",
    "\n",
    "#string\n",
    "p='abc'\n",
    "q='xyz'\n",
    "print(p+q)\n",
    "\n",
    "#list\n",
    "l1=[1,2,3]\n",
    "l2=[4,5,6]\n",
    "print(l1+l2)\n",
    "\n",
    "#tuple\n",
    "t1=(1,2,3)\n",
    "t2=(4,5,6)\n",
    "print(t1+t2)\n",
    "\n",
    "#dictionary\n",
    "#addition is not applicable on dictionary\n",
    "\n",
    "#sets\n",
    "#addition is not applicable on dictionary\n",
    "\n",
    "\n"
   ]
  },
  {
   "cell_type": "code",
   "execution_count": 7,
   "metadata": {},
   "outputs": [
    {
     "name": "stdout",
     "output_type": "stream",
     "text": [
      "-40\n"
     ]
    }
   ],
   "source": [
    "#Substraction\n",
    "\n",
    "#int\n",
    "x=10\n",
    "y=50\n",
    "print(x-y)\n",
    "\n",
    "#subtraction not aplicable on string,list,tuple,dictionary and sets"
   ]
  },
  {
   "cell_type": "code",
   "execution_count": 8,
   "metadata": {},
   "outputs": [
    {
     "name": "stdout",
     "output_type": "stream",
     "text": [
      "2\n",
      "hihi\n",
      "heyhey\n"
     ]
    }
   ],
   "source": [
    "#multiplication\n",
    "\n",
    "#int\n",
    "x=1\n",
    "y=2\n",
    "print(x*y)\n",
    "\n",
    "#string\n",
    "x='hi'\n",
    "y='hey'\n",
    "#print(x*y)\n",
    "print(x*2)\n",
    "print(y*2)\n",
    "\n",
    "#works same as string on list tuple and dictionary\n",
    "\n"
   ]
  },
  {
   "cell_type": "code",
   "execution_count": 9,
   "metadata": {},
   "outputs": [
    {
     "name": "stdout",
     "output_type": "stream",
     "text": [
      "3.3333333333333335\n",
      "1\n",
      "3\n"
     ]
    }
   ],
   "source": [
    "#division\n",
    "\n",
    "#int\n",
    "x=10\n",
    "y=3\n",
    "print(x/y) #absolute division\n",
    "print(x%y) #remainder\n",
    "print(x//y) #quotient\n"
   ]
  },
  {
   "cell_type": "code",
   "execution_count": 10,
   "metadata": {},
   "outputs": [
    {
     "name": "stdout",
     "output_type": "stream",
     "text": [
      "1000\n"
     ]
    }
   ],
   "source": [
    "#exponent\n",
    "\n",
    "#int\n",
    "x=10\n",
    "y=3\n",
    "print(x**y)"
   ]
  },
  {
   "cell_type": "markdown",
   "metadata": {},
   "source": [
    "# 2.Comparision\n",
    "\n"
   ]
  },
  {
   "cell_type": "code",
   "execution_count": 14,
   "metadata": {},
   "outputs": [
    {
     "name": "stdout",
     "output_type": "stream",
     "text": [
      "6 < 7 True\n",
      "6 <= 7 True\n",
      "6 > 7 False\n",
      "6 >= 7 False\n",
      "6 == 7 False\n",
      "6 1= 7 True\n"
     ]
    }
   ],
   "source": [
    "print(\"6 < 7\", 6<7)\n",
    "print(\"6 <= 7\", 6<=7)\n",
    "print(\"6 > 7\", 6>7)\n",
    "print(\"6 >= 7\", 6>=7)\n",
    "print(\"6 == 7\", 6==7)\n",
    "print(\"6 1= 7\", 6!=7)\n"
   ]
  },
  {
   "cell_type": "markdown",
   "metadata": {},
   "source": [
    "# 3.Logical\n"
   ]
  },
  {
   "cell_type": "markdown",
   "metadata": {},
   "source": [
    "1.and\n",
    "2.or\n",
    "3.not"
   ]
  },
  {
   "cell_type": "code",
   "execution_count": 17,
   "metadata": {},
   "outputs": [
    {
     "name": "stdout",
     "output_type": "stream",
     "text": [
      "0\n",
      "False\n",
      "True\n"
     ]
    }
   ],
   "source": [
    "print(6-4*3+6 and 7<6)\n",
    "print(6-4*3+6 or 7<6)\n",
    "print(not 7<6)"
   ]
  },
  {
   "cell_type": "code",
   "execution_count": 20,
   "metadata": {},
   "outputs": [
    {
     "name": "stdout",
     "output_type": "stream",
     "text": [
      "T\t Y\t and\t or\t\n",
      "True\t True\t True\t True\t\n",
      "True\t False\t False\t True\t\n",
      "False\t True\t False\t True\t\n",
      "False\t False\t False\t False\t\n"
     ]
    }
   ],
   "source": [
    "t=True\n",
    "f=False\n",
    "print(\"T\\t Y\\t and\\t or\\t\")\n",
    "print(\"{}\\t {}\\t {}\\t {}\\t\".format(t, t, t and t,t or t))\n",
    "print(\"{}\\t {}\\t {}\\t {}\\t\".format(t, f, t and f,t or f))\n",
    "print(\"{}\\t {}\\t {}\\t {}\\t\".format(f, t, f and t,f or t))\n",
    "print(\"{}\\t {}\\t {}\\t {}\\t\".format(f, f, f and f,f or f))"
   ]
  },
  {
   "cell_type": "markdown",
   "metadata": {},
   "source": [
    "# 4.Assignment\n"
   ]
  },
  {
   "cell_type": "code",
   "execution_count": 21,
   "metadata": {},
   "outputs": [
    {
     "name": "stdout",
     "output_type": "stream",
     "text": [
      "something\n"
     ]
    }
   ],
   "source": [
    "x='something'\n",
    "print(x)"
   ]
  },
  {
   "cell_type": "markdown",
   "metadata": {
    "collapsed": true
   },
   "source": [
    "# 5.Membership\n"
   ]
  },
  {
   "cell_type": "code",
   "execution_count": 3,
   "metadata": {},
   "outputs": [
    {
     "name": "stdout",
     "output_type": "stream",
     "text": [
      "True False True\n"
     ]
    }
   ],
   "source": [
    "#in ,not in\n",
    "\n",
    "s=\"dog is an animal\"\n",
    "x=\"dog\" in s\n",
    "y=\"cat\" in s\n",
    "z=\"cat\" not in s\n",
    "print(z,y,z)"
   ]
  },
  {
   "cell_type": "code",
   "execution_count": 5,
   "metadata": {},
   "outputs": [
    {
     "name": "stdout",
     "output_type": "stream",
     "text": [
      "pattern not found\n"
     ]
    }
   ],
   "source": [
    "l1=[1,2,3,4]\n",
    "l2=[3,4]\n",
    "if l2 in l1:\n",
    "    print(\"pattern found\")\n",
    "else:\n",
    "    print(\"pattern not found\")"
   ]
  },
  {
   "cell_type": "code",
   "execution_count": 6,
   "metadata": {},
   "outputs": [
    {
     "name": "stdout",
     "output_type": "stream",
     "text": [
      "enter a number23\n",
      "number not found in ist\n"
     ]
    }
   ],
   "source": [
    "l=[1,2,13,43,56,566,678,345]\n",
    "if int(input(\"enter a number\")) in l:\n",
    "    print(\"number found in list\")\n",
    "else:\n",
    "    print(\"number not found in ist\")"
   ]
  },
  {
   "cell_type": "code",
   "execution_count": 12,
   "metadata": {},
   "outputs": [
    {
     "name": "stdout",
     "output_type": "stream",
     "text": [
      "player1 : ········\n",
      "player2 : ········\n",
      "player1 wins\n"
     ]
    }
   ],
   "source": [
    "#gatepass- lets you take input secrectly\n",
    "#take 2 input,player1 and player2, make st\n",
    "from getpass import getpass   #importing gatepass\n",
    "\n",
    "\n",
    "\n",
    "p1=getpass(\"player1 : \")\n",
    "p2=getpass(\"player2 : \")\n",
    "    \n",
    "if p1=='r' and p2=='s' or p1=='s' and p2=='p' or p1=='p' and p2=='r':\n",
    "    print(\"player1 wins\")\n",
    "elif p1=='r' and p2=='p' or p1=='s' and p2=='r' or p1=='s' and p2=='r':\n",
    "    print(\"player2 wins\")\n",
    "elif p1=='r' and p2=='r' or p1=='p' and p2=='p' or p1=='r' and p2=='r':\n",
    "    print(\"tie\")\n",
    "else:\n",
    "    print(\"wrong input\")"
   ]
  },
  {
   "cell_type": "code",
   "execution_count": null,
   "metadata": {
    "collapsed": true
   },
   "outputs": [],
   "source": [
    "#simple steps\n",
    "p1=[('r','s'),('s','p'),('p','r')]\n",
    "from getpass import getpass\n",
    "\n",
    "ch1=getpass(\"player1 : \")\n",
    "ch2=getpass(\"player1 : \")\n",
    "if ch1==ch2:\n",
    "    print(\"tie\")\n",
    "elif (ch1,ch2) in p1:\n",
    "    print(\"player1 wins\")\n",
    "else:\n",
    "    print(\"player2 wins\")"
   ]
  },
  {
   "cell_type": "markdown",
   "metadata": {},
   "source": [
    "# 6.Identity"
   ]
  },
  {
   "cell_type": "code",
   "execution_count": 17,
   "metadata": {},
   "outputs": [
    {
     "name": "stdout",
     "output_type": "stream",
     "text": [
      "True\n",
      "False\n",
      "both are not equal\n"
     ]
    }
   ],
   "source": [
    "#is or is not\n",
    "\n",
    "x=1\n",
    "y=1\n",
    "print(x is y)\n",
    "print(x is not y)\n",
    "\n",
    "\n",
    "p=2\n",
    "q=3\n",
    "if p is q:\n",
    "    print(\"both are equal\")\n",
    "else:\n",
    "    print(\"both are not equal\")"
   ]
  },
  {
   "cell_type": "code",
   "execution_count": 20,
   "metadata": {},
   "outputs": [
    {
     "name": "stdout",
     "output_type": "stream",
     "text": [
      "player1 : p\n",
      "computers choice is :  s\n",
      "player2's choice is :  p\n",
      "player1 wins\n"
     ]
    }
   ],
   "source": [
    "#stone paper siccor game using random function\n",
    "from random import choice\n",
    "\n",
    "#p1=[('r','s'),('s','p'),('p','r')]\n",
    "#from getpass import getpass\n",
    "\n",
    "ch1=choice(['p','r','s'])\n",
    "ch2=input(\"player1 : \")\n",
    "if ch1==ch2:\n",
    "    print(\"tie\")\n",
    "elif (ch1,ch2) in p1:\n",
    "    print(\"computers choice is : \",ch1)\n",
    "    print(\"player2's choice is : \",ch2)\n",
    "    print(\"player1 wins\")\n",
    "else:\n",
    "    print(\"computers choice is : \",ch1)\n",
    "    print(\"player2's choice is : \",ch2)\n",
    "    print(\"player2 wins\")"
   ]
  },
  {
   "cell_type": "code",
   "execution_count": null,
   "metadata": {},
   "outputs": [
    {
     "name": "stdout",
     "output_type": "stream",
     "text": [
      "enter the number25\n",
      "guess is low,guess high\n",
      "enter the number40\n",
      "guess is low,guess high\n",
      "enter the number45\n",
      "guess is high,guess low\n",
      "enter the number43\n",
      "guess is low,guess high\n",
      "enter the number42\n",
      "guess is low,guess high\n",
      "enter the number41\n",
      "you have reached max attemps,you lose\n",
      "computer's input was 45\n"
     ]
    }
   ],
   "source": [
    "#guessing game\n",
    "\n",
    "from random import randrange\n",
    "while True:\n",
    "    c=randrange(1,50)\n",
    "    u=int(input(\"enter the number\"))\n",
    "    if c==u:\n",
    "        print(\"computer's number is : \",c)\n",
    "        print(\"user's number is : \",u)\n",
    "        print(\"you win\")\n",
    "    \n",
    "    else:\n",
    "        i=1\n",
    "        while i<=5:\n",
    "            if c>u:\n",
    "                print(\"guess is low,guess high\")\n",
    "                u=int(input(\"enter the number\"))\n",
    "            else:\n",
    "                print(\"guess is high,guess low\")\n",
    "                u=int(input(\"enter the number\"))\n",
    "        \n",
    "            i=i+1\n",
    "        print(\"you have reached max attemps,you lose\")\n",
    "        print(\"computer's input was\",c) \n",
    "            \n",
    "    ch=input(\"do you want to continue (y/n)\").strip().lower()\n",
    "    if ch=='y' or ch=='yes':\n",
    "        continue\n",
    "    else:\n",
    "        break\n",
    "    "
   ]
  },
  {
   "cell_type": "code",
   "execution_count": null,
   "metadata": {
    "collapsed": true
   },
   "outputs": [],
   "source": []
  }
 ],
 "metadata": {
  "kernelspec": {
   "display_name": "Python 3",
   "language": "python",
   "name": "python3"
  },
  "language_info": {
   "codemirror_mode": {
    "name": "ipython",
    "version": 3
   },
   "file_extension": ".py",
   "mimetype": "text/x-python",
   "name": "python",
   "nbconvert_exporter": "python",
   "pygments_lexer": "ipython3",
   "version": "3.6.3"
  }
 },
 "nbformat": 4,
 "nbformat_minor": 2
}
